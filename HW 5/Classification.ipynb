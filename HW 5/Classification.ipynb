{
 "cells": [
  {
   "cell_type": "code",
   "execution_count": 1,
   "metadata": {},
   "outputs": [],
   "source": [
    "import pandas as pd\n",
    "import numpy as np \n",
    "import matplotlib.pyplot as plt\n",
    "\n",
    "test = pd.read_json('test.json')\n",
    "train = pd.read_json('train.json')"
   ]
  },
  {
   "cell_type": "markdown",
   "metadata": {},
   "source": [
    "# Exploratory Data Anlysis #"
   ]
  },
  {
   "cell_type": "code",
   "execution_count": 2,
   "metadata": {},
   "outputs": [
    {
     "data": {
      "text/plain": [
       "['romaine lettuce',\n",
       " 'black olives',\n",
       " 'grape tomatoes',\n",
       " 'garlic',\n",
       " 'pepper',\n",
       " 'purple onion',\n",
       " 'seasoning',\n",
       " 'garbanzo beans',\n",
       " 'feta cheese crumbles']"
      ]
     },
     "execution_count": 2,
     "metadata": {},
     "output_type": "execute_result"
    }
   ],
   "source": [
    "train['ingredients'][0]"
   ]
  },
  {
   "cell_type": "code",
   "execution_count": 3,
   "metadata": {},
   "outputs": [
    {
     "data": {
      "text/plain": [
       "id                                                         10259\n",
       "cuisine                                                    greek\n",
       "ingredients    [romaine lettuce, black olives, grape tomatoes...\n",
       "Name: 0, dtype: object"
      ]
     },
     "execution_count": 3,
     "metadata": {},
     "output_type": "execute_result"
    }
   ],
   "source": [
    "train.loc[0]"
   ]
  },
  {
   "cell_type": "code",
   "execution_count": 4,
   "metadata": {},
   "outputs": [
    {
     "data": {
      "text/plain": [
       "array(['greek', 'southern_us', 'filipino', 'indian', 'jamaican',\n",
       "       'spanish', 'italian', 'mexican', 'chinese', 'british', 'thai',\n",
       "       'vietnamese', 'cajun_creole', 'brazilian', 'french', 'japanese',\n",
       "       'irish', 'korean', 'moroccan', 'russian'], dtype=object)"
      ]
     },
     "execution_count": 4,
     "metadata": {},
     "output_type": "execute_result"
    }
   ],
   "source": [
    "# Cuisines Available\n",
    "train['cuisine'].unique()"
   ]
  },
  {
   "cell_type": "code",
   "execution_count": 5,
   "metadata": {},
   "outputs": [
    {
     "data": {
      "text/plain": [
       "<matplotlib.axes._subplots.AxesSubplot at 0x1180fbba8>"
      ]
     },
     "execution_count": 5,
     "metadata": {},
     "output_type": "execute_result"
    },
    {
     "data": {
      "image/png": "[encoded data removed]",
      "text/plain": [
       "<Figure size 432x288 with 1 Axes>"
      ]
     },
     "metadata": {
      "needs_background": "light"
     },
     "output_type": "display_data"
    }
   ],
   "source": [
    "# Overall number of cuisines available with occurences\n",
    "train['cuisine'].value_counts()\n",
    "train['cuisine'].value_counts().plot.bar()"
   ]
  },
  {
   "cell_type": "code",
   "execution_count": 6,
   "metadata": {},
   "outputs": [
    {
     "data": {
      "text/plain": [
       "salt                      18049\n",
       "olive oil                  7972\n",
       "onions                     7972\n",
       "water                      7457\n",
       "garlic                     7380\n",
       "sugar                      6434\n",
       "garlic cloves              6237\n",
       "butter                     4848\n",
       "ground black pepper        4785\n",
       "all-purpose flour          4632\n",
       "pepper                     4438\n",
       "vegetable oil              4385\n",
       "eggs                       3388\n",
       "soy sauce                  3296\n",
       "kosher salt                3113\n",
       "green onions               3078\n",
       "tomatoes                   3058\n",
       "large eggs                 2948\n",
       "carrots                    2814\n",
       "unsalted butter            2782\n",
       "ground cumin               2747\n",
       "extra-virgin olive oil     2747\n",
       "black pepper               2627\n",
       "milk                       2263\n",
       "chili powder               2036\n",
       "oil                        1970\n",
       "red bell pepper            1939\n",
       "purple onion               1896\n",
       "scallions                  1891\n",
       "grated parmesan cheese     1886\n",
       "sesame oil                 1773\n",
       "corn starch                1757\n",
       "ginger                     1755\n",
       "baking powder              1738\n",
       "jalapeno chilies           1730\n",
       "dried oregano              1707\n",
       "chopped cilantro fresh     1698\n",
       "fresh lemon juice          1679\n",
       "diced tomatoes             1624\n",
       "fresh parsley              1604\n",
       "minced garlic              1583\n",
       "chicken broth              1554\n",
       "sour cream                 1539\n",
       "cayenne pepper             1523\n",
       "fresh ginger               1503\n",
       "brown sugar                1503\n",
       "cooking spray              1490\n",
       "shallots                   1477\n",
       "garlic powder              1442\n",
       "lime                       1439\n",
       "dtype: int64"
      ]
     },
     "execution_count": 6,
     "metadata": {},
     "output_type": "execute_result"
    }
   ],
   "source": [
    "# Occurences of ingredients in the dataset\n",
    "list_of_ingredients = [x for x in train['ingredients']]\n",
    "list_of_ingredients\n",
    "\n",
    "flat_list = []\n",
    "for sublist in list_of_ingredients:\n",
    "    for item in sublist:\n",
    "        flat_list.append(item)\n",
    "flat_list    \n",
    "# flatten = lambda l: [item for sublist in l for item in sublist]\n",
    "\n",
    "######################################\n",
    "## Dictionary of ingredients counts ##\n",
    "# import collections\n",
    "# ingredients_dic = collections.Counter(flat_list)\n",
    "# ingredients_dic = dict(ingredients_dic)\n",
    "# ingredients_dic\n",
    "######################################\n",
    "\n",
    "# 50. Most used ingredients\n",
    "pd.Series(flat_list).value_counts().head(50) # These ingredients may have lower predictive power as \n",
    "# they occur very often"
   ]
  },
  {
   "cell_type": "code",
   "execution_count": 7,
   "metadata": {},
   "outputs": [
    {
     "data": {
      "text/plain": [
       "sauce mix                 1\n",
       "peaches in syrup          1\n",
       "strawberry gelatin        1\n",
       "filipino eggplant         1\n",
       "spicy mayonnaise          1\n",
       "                         ..\n",
       "Azteca Flour Tortillas    1\n",
       "gluten-free pie crust     1\n",
       "cheese curds              1\n",
       "sturgeon                  1\n",
       "Knorr® Beef Bouillon      1\n",
       "Length: 1759, dtype: int64"
      ]
     },
     "execution_count": 7,
     "metadata": {},
     "output_type": "execute_result"
    }
   ],
   "source": [
    "# Least used ingredients\n",
    "least = pd.Series(flat_list).value_counts()\n",
    "least[least==1] # 1759 ingredients only happen in one recpeie. They may have high predictive power \n",
    "#and overfit the data"
   ]
  },
  {
   "cell_type": "code",
   "execution_count": 8,
   "metadata": {},
   "outputs": [
    {
     "data": {
      "text/plain": [
       "lipton recip secret golden onion soup mix    1\n",
       "champagne grapes                             1\n",
       "honey-flavored greek style yogurt            1\n",
       "gluten free chicken broth                    1\n",
       "coleslaw dressing                            1\n",
       "chuck short ribs                             1\n",
       "treviso radicchio                            1\n",
       "leftover gravy                               1\n",
       "chicken chorizo sausages                     1\n",
       "chocolate ice cream mix                      1\n",
       "bai cai                                      1\n",
       "low sodium low fat pasta sauce               1\n",
       "dark crème de cacao                          1\n",
       "kha                                          1\n",
       "cold coffee                                  1\n",
       "non dairy sour cream                         1\n",
       "satsuma juice                                1\n",
       "Mexican lager beer                           1\n",
       "mincemeat pie filling                        1\n",
       "organic vegetable stock                      1\n",
       "tuaca                                        1\n",
       "macaroni and cheese dinner                   1\n",
       "Kraft Mayonnaise                             1\n",
       "pippin apples                                1\n",
       "graviera                                     1\n",
       "oat milk                                     1\n",
       "crabapples                                   1\n",
       "leg of veal                                  1\n",
       "crusty whole wheat toast                     1\n",
       "cashew milk                                  1\n",
       "Kikkoman Less Sodium Soy Sauce               1\n",
       "ginger liqueur                               1\n",
       "rum raisin ice cream                         1\n",
       "dip mix                                      1\n",
       "Royal Baking Powder                          1\n",
       "foccacia                                     1\n",
       "energy drink                                 1\n",
       "burrito seasoning mix                        1\n",
       "low fat chunky mushroom pasta sauce          1\n",
       "JOHNSONVILLE® Hot 'N Spicy Brats             1\n",
       "swanson chicken stock                        1\n",
       "tart filling                                 1\n",
       "beluga lentil                                1\n",
       "branston pickle                              1\n",
       "praline syrup                                1\n",
       "Azteca Flour Tortillas                       1\n",
       "gluten-free pie crust                        1\n",
       "cheese curds                                 1\n",
       "sturgeon                                     1\n",
       "Knorr® Beef Bouillon                         1\n",
       "dtype: int64"
      ]
     },
     "execution_count": 8,
     "metadata": {},
     "output_type": "execute_result"
    }
   ],
   "source": [
    "# When exploring the least frequent ingredients noticed some noise such as the ® sign in the data.\n",
    "# There may be much more noise in the data. Need to get rid of them for model performance.\n",
    "pd.Series(flat_list).value_counts().tail(50)\n",
    "# Needs preprocessing and normalization"
   ]
  },
  {
   "cell_type": "markdown",
   "metadata": {},
   "source": [
    "# Feature preprocessing #"
   ]
  },
  {
   "cell_type": "code",
   "execution_count": 9,
   "metadata": {},
   "outputs": [],
   "source": [
    "## Feature preprocessing ##\n",
    "import string\n",
    "import re\n",
    "\n",
    "translator = str.maketrans('', '', string.punctuation) # to remove punctuation\n",
    "def preprocessing(data):\n",
    "    trian_X = [x for x in data]\n",
    "    train_X = [' '.join(x) for x in data]\n",
    "    train_X = [x.split() for x in train_X]\n",
    "    # print(train_X) # To view the overall features\n",
    "\n",
    "    for sublist in train_X:\n",
    "        for i in range(len(sublist)):\n",
    "            sublist[i] = sublist[i].strip() # Strip spaces\n",
    "            sublist[i] = sublist[i].lower() # Make lowercase\n",
    "            sublist[i] = sublist[i].encode('ascii', 'ignore').decode('utf8') # Strip unicode\n",
    "            sublist[i] = re.sub(r\" ?\\([^)]+\\)\", \"\", sublist[i]) # Dispose form additional info inside parenthesis\n",
    "            sublist[i] = sublist[i].translate(translator) # Remove punctuations\n",
    "    \n",
    "    return train_X\n",
    "\n",
    "train_X = preprocessing(train['ingredients'])\n",
    "# train_X"
   ]
  },
  {
   "cell_type": "markdown",
   "metadata": {},
   "source": [
    "# Machine Learning Model #"
   ]
  },
  {
   "cell_type": "code",
   "execution_count": 10,
   "metadata": {},
   "outputs": [],
   "source": [
    "# Encode features and labels #\n",
    "from sklearn.feature_extraction.text import CountVectorizer, TfidfVectorizer\n",
    "from sklearn.preprocessing import LabelEncoder\n",
    "from sklearn.model_selection import GridSearchCV\n",
    "from sklearn.svm import SVC\n",
    "from sklearn.model_selection import cross_val_score\n",
    "import warnings\n",
    "from sklearn.neighbors import KNeighborsClassifier\n",
    "\n",
    "\n",
    "vectorizer = TfidfVectorizer(max_df=0.99)\n",
    "X_train = vectorizer.fit_transform([str(i) for i in train_X])\n",
    "le = LabelEncoder()\n",
    "\n",
    "Y = [x for x in train['cuisine']]\n",
    "y_train = le.fit_transform(Y)\n",
    "# y_train"
   ]
  },
  {
   "cell_type": "code",
   "execution_count": 11,
   "metadata": {},
   "outputs": [
    {
     "name": "stdout",
     "output_type": "stream",
     "text": [
      "Accuracy SVM with Preprocessing: 0.81\n"
     ]
    }
   ],
   "source": [
    "# SVM Model #\n",
    "clf = SVC(C=3.55, cache_size=500, gamma=1)\n",
    "scores = cross_val_score(clf, X_train, y_train, cv=5, n_jobs=1)\n",
    "print(\"Accuracy SVM with Preprocessing: {score_mean:.2f}\".format(score_mean=scores.mean()))"
   ]
  },
  {
   "cell_type": "code",
   "execution_count": 16,
   "metadata": {},
   "outputs": [
    {
     "name": "stdout",
     "output_type": "stream",
     "text": [
      "Accuracy KNN with Preprocessing: 0.72\n"
     ]
    }
   ],
   "source": [
    "# KNN Model #\n",
    "neighbors = KNeighborsClassifier(n_neighbors=4)\n",
    "scores = cross_val_score(neighbors, X_train, y_train, cv=5, n_jobs=1)\n",
    "print(\"Accuracy KNN with Preprocessing: {score_mean:.2f}\".format(score_mean=scores.mean()))"
   ]
  },
  {
   "cell_type": "code",
   "execution_count": 17,
   "metadata": {},
   "outputs": [],
   "source": [
    "# Predictions #\n",
    "# Train the model once more to predict for Test data.\n",
    "clf = SVC(C=3.55, cache_size=500, gamma=1)\n",
    "clf.fit(X_train, y_train)\n",
    "\n",
    "# test_X = test['ingredients'].values\n",
    "\n",
    "test_X = preprocessing(test['ingredients'])\n",
    "X_test = vectorizer.transform([str(i) for i in test_X])\n",
    "\n",
    "predict = clf.predict(X_test)\n",
    "Y_test = le.inverse_transform(predict)\n",
    "\n",
    "pred_final = pd.DataFrame()\n",
    "pred_final['id'] = test['id']\n",
    "pred_final['cuisine'] = Y_test\n",
    "pred_final.to_csv('submission.csv', index=False) # Predicted submission file"
   ]
  }
 ],
 "metadata": {
  "kernelspec": {
   "display_name": "Python 3",
   "language": "python",
   "name": "python3"
  },
  "language_info": {
   "codemirror_mode": {
    "name": "ipython",
    "version": 3
   },
   "file_extension": ".py",
   "mimetype": "text/x-python",
   "name": "python",
   "nbconvert_exporter": "python",
   "pygments_lexer": "ipython3",
   "version": "3.7.3"
  }
 },
 "nbformat": 4,
 "nbformat_minor": 2
}
